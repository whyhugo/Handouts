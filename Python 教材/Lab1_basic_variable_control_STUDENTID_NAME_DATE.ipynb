{
 "cells": [
  {
   "cell_type": "markdown",
   "metadata": {
    "id": "BsBBAQs0GdzI"
   },
   "source": [
    "# 基礎程式設計 LAB 1\n",
    "\n",
    ">基本運算<br>\n",
    ">資料型態<br>\n",
    ">控制流程"
   ]
  },
  {
   "cell_type": "markdown",
   "metadata": {
    "id": "XhLHK2zgGdzP"
   },
   "source": [
    "Name:\n",
    "\n",
    "Student ID:"
   ]
  },
  {
   "cell_type": "markdown",
   "metadata": {
    "id": "Xo9r7MRuGdzQ"
   },
   "source": [
    "## 第一個要學會的是......和世界打招呼\n",
    " - print()"
   ]
  },
  {
   "cell_type": "code",
   "execution_count": null,
   "metadata": {
    "id": "yDuooNzzGdzR"
   },
   "outputs": [],
   "source": [
    "print('hello world')"
   ]
  },
  {
   "cell_type": "markdown",
   "metadata": {
    "id": "0ybErWG7GdzR"
   },
   "source": [
    "#### >>> 回家練習: <<< \n",
    "寫一行程式印出你的名字"
   ]
  },
  {
   "cell_type": "code",
   "execution_count": null,
   "metadata": {
    "id": "OpvCEXrHGdzR"
   },
   "outputs": [],
   "source": [
    "#your code\n"
   ]
  },
  {
   "cell_type": "markdown",
   "metadata": {
    "id": "GSsazpmjGdzS"
   },
   "source": [
    "## 第二個要學會的是......如何使用 Python 計算機\n",
    "`2 + 1`中`2`跟 `1` 稱為`運算元`，`+` 稱為`運算子`\n",
    ">指派運算子 (Assignment operator)<br>\n",
    ">算術運算子 (Arithmetric operators)<br>\n",
    ">更新運算子 (Updating operators)<br>\n",
    ">比較運算子 (Comparison operators)<br>\n",
    ">邏輯運算子 (Logical operators)"
   ]
  },
  {
   "cell_type": "markdown",
   "metadata": {
    "id": "55fGq_l2GdzS"
   },
   "source": [
    "### 指派運算子\n",
    "a = 1\n",
    ">指派 (Assignment)<br>\n",
    ">變數 (Variables)"
   ]
  },
  {
   "cell_type": "code",
   "execution_count": null,
   "metadata": {
    "id": "5N1brbqzGdzT"
   },
   "outputs": [],
   "source": [
    "a = 1\n",
    "a"
   ]
  },
  {
   "cell_type": "markdown",
   "metadata": {
    "id": "l-VV0oXAGdzT"
   },
   "source": [
    "#### 指派\n",
    " - 右邊運算完的結果丟給左邊\n",
    " - 跟一般數學的等號意義是不一樣的，誤用會出現 `invalid syntax` 錯誤...你的等於不是你的等於"
   ]
  },
  {
   "cell_type": "code",
   "execution_count": null,
   "metadata": {
    "id": "yo01QUHYGdzT"
   },
   "outputs": [],
   "source": [
    "a = 1 + 1\n",
    "a"
   ]
  },
  {
   "cell_type": "code",
   "execution_count": null,
   "metadata": {
    "id": "U0NSvJcfGdzU"
   },
   "outputs": [],
   "source": [
    "a = 1\n",
    "a = a + 1\n",
    "a"
   ]
  },
  {
   "cell_type": "code",
   "execution_count": null,
   "metadata": {
    "id": "VtS2RYoLGdzU"
   },
   "outputs": [],
   "source": [
    "1 = 1"
   ]
  },
  {
   "cell_type": "markdown",
   "metadata": {
    "id": "rNfraInQGdzU"
   },
   "source": [
    "#### >>> 回家練習 <<<\n",
    "指派你的學號（整數部分）給變數 student_id，並印出。"
   ]
  },
  {
   "cell_type": "code",
   "execution_count": null,
   "metadata": {
    "id": "Nm3GS5bcGdzU"
   },
   "outputs": [],
   "source": [
    "#your code\n"
   ]
  },
  {
   "cell_type": "markdown",
   "metadata": {
    "id": "hOdXnOlsGdzU"
   },
   "source": [
    "#### >>> 回家練習 <<<\n",
    "指派你的姓名給變數 student_name，並印出。"
   ]
  },
  {
   "cell_type": "code",
   "execution_count": null,
   "metadata": {
    "id": "FkQWEMywGdzV"
   },
   "outputs": [],
   "source": [
    "#your code\n"
   ]
  },
  {
   "cell_type": "markdown",
   "metadata": {
    "id": "xC3Uo1ccGdzV"
   },
   "source": [
    "#### 變數\n",
    " - 會在記憶體中佔住一個區塊\n",
    " - 變數命名限制：開頭不能是數字、開頭不能是運算子、不可與保留字同名"
   ]
  },
  {
   "cell_type": "code",
   "execution_count": null,
   "metadata": {
    "id": "hXiczXrfGdzV"
   },
   "outputs": [],
   "source": [
    "1a = 1"
   ]
  },
  {
   "cell_type": "code",
   "execution_count": null,
   "metadata": {
    "id": "35IU-aUoGdzV"
   },
   "outputs": [],
   "source": [
    "+a = 1"
   ]
  },
  {
   "cell_type": "code",
   "execution_count": null,
   "metadata": {
    "id": "kVTv4WOrGdzV"
   },
   "outputs": [],
   "source": [
    "for = 1"
   ]
  },
  {
   "cell_type": "markdown",
   "metadata": {
    "id": "v9imUdIyGdzW"
   },
   "source": [
    "### 算術運算子\n",
    "1 + 1<br>\n",
    "\n",
    "`+`、`-`、`*`、`/`、`**`、`//`、`%`"
   ]
  },
  {
   "cell_type": "code",
   "execution_count": null,
   "metadata": {
    "id": "kxPFZuEpGdzW"
   },
   "outputs": [],
   "source": [
    "1 + 1"
   ]
  },
  {
   "cell_type": "code",
   "execution_count": null,
   "metadata": {
    "id": "1h5XLoqGGdzW"
   },
   "outputs": [],
   "source": [
    "2 - 1"
   ]
  },
  {
   "cell_type": "code",
   "execution_count": null,
   "metadata": {
    "id": "ukyh58yWGdzX"
   },
   "outputs": [],
   "source": [
    "2 * 2"
   ]
  },
  {
   "cell_type": "code",
   "execution_count": null,
   "metadata": {
    "id": "TP5cxja1GdzX"
   },
   "outputs": [],
   "source": [
    "6 / 4"
   ]
  },
  {
   "cell_type": "code",
   "execution_count": null,
   "metadata": {
    "id": "tn5GmPUHGdzX"
   },
   "outputs": [],
   "source": [
    "3 ** 2"
   ]
  },
  {
   "cell_type": "code",
   "execution_count": null,
   "metadata": {
    "id": "s_pwVvPJGdzX"
   },
   "outputs": [],
   "source": [
    "6 // 4"
   ]
  },
  {
   "cell_type": "code",
   "execution_count": null,
   "metadata": {
    "id": "pLNHBsOdGdzX"
   },
   "outputs": [],
   "source": [
    "6 % 4"
   ]
  },
  {
   "cell_type": "markdown",
   "metadata": {
    "id": "pXozgfCoGdzY"
   },
   "source": [
    "### 更新運算子\n",
    "`a += 1` => `a = a + 1` (指派跟算術結合)\n",
    "\n",
    "包括 `+=`、`-=`、`*=`、`/=`、`**=`、`//=`、`%=`"
   ]
  },
  {
   "cell_type": "code",
   "execution_count": null,
   "metadata": {
    "id": "xHCRucvrGdzY"
   },
   "outputs": [],
   "source": [
    "a = 1\n",
    "a = a + 1\n",
    "a"
   ]
  },
  {
   "cell_type": "code",
   "execution_count": null,
   "metadata": {
    "id": "F3Sl7dtaGdzY"
   },
   "outputs": [],
   "source": [
    "a = 1\n",
    "a += 1\n",
    "a"
   ]
  },
  {
   "cell_type": "markdown",
   "metadata": {
    "id": "fbs0DfuyGdzY"
   },
   "source": [
    "### 比較運算子\n",
    "3 > 1\n",
    "\n",
    "包括 `==`、`!=`、`>`、`<`、`>=`、`<=`\n",
    "\n",
    "比較結果為 `True` 或 `False`"
   ]
  },
  {
   "cell_type": "code",
   "execution_count": null,
   "metadata": {
    "id": "sxsSkfbuGdzY"
   },
   "outputs": [],
   "source": [
    "1 == 1"
   ]
  },
  {
   "cell_type": "code",
   "execution_count": null,
   "metadata": {
    "id": "CzfN9pDaGdzY"
   },
   "outputs": [],
   "source": [
    "1 != 1"
   ]
  },
  {
   "cell_type": "code",
   "execution_count": null,
   "metadata": {
    "id": "60mFWpxzGdzY"
   },
   "outputs": [],
   "source": [
    "1 > 1"
   ]
  },
  {
   "cell_type": "code",
   "execution_count": null,
   "metadata": {
    "id": "D6lAO_KpGdzZ"
   },
   "outputs": [],
   "source": [
    "1 < 1"
   ]
  },
  {
   "cell_type": "code",
   "execution_count": null,
   "metadata": {
    "id": "cOZneb3nGdzZ"
   },
   "outputs": [],
   "source": [
    "1 >= 1"
   ]
  },
  {
   "cell_type": "code",
   "execution_count": null,
   "metadata": {
    "id": "h1iXrbjQGdzZ"
   },
   "outputs": [],
   "source": [
    "1 <= 1"
   ]
  },
  {
   "cell_type": "markdown",
   "metadata": {
    "id": "QZSlo8uTGdzZ"
   },
   "source": [
    "### 邏輯運算子\n",
    "True and False\n",
    "\n",
    " - 且：`and`、`&` (其中一個為 False 即為 False)\n",
    " - 或：`or`、`|`  (其中一個為 True  即為 True )\n",
    " - 非：`not` (無法使用\"!\")"
   ]
  },
  {
   "cell_type": "code",
   "execution_count": null,
   "metadata": {
    "id": "FIsu92ZqGdzZ"
   },
   "outputs": [],
   "source": [
    "True and True"
   ]
  },
  {
   "cell_type": "code",
   "execution_count": null,
   "metadata": {
    "id": "3vMuD5nZGdzZ"
   },
   "outputs": [],
   "source": [
    "True & False"
   ]
  },
  {
   "cell_type": "code",
   "execution_count": null,
   "metadata": {
    "id": "zufYg7a3Gdza"
   },
   "outputs": [],
   "source": [
    "True or False"
   ]
  },
  {
   "cell_type": "code",
   "execution_count": null,
   "metadata": {
    "id": "5xwDqdZSGdza"
   },
   "outputs": [],
   "source": [
    "True | True"
   ]
  },
  {
   "cell_type": "code",
   "execution_count": null,
   "metadata": {
    "id": "WS5mo8_FGdza"
   },
   "outputs": [],
   "source": [
    "not True"
   ]
  },
  {
   "cell_type": "code",
   "execution_count": null,
   "metadata": {
    "id": "B4QR0aZ-Gdza"
   },
   "outputs": [],
   "source": [
    "(1 == 1) and (2 != 1)"
   ]
  },
  {
   "cell_type": "code",
   "execution_count": null,
   "metadata": {
    "id": "haysm-E1Gdza"
   },
   "outputs": [],
   "source": [
    "not (2 == 3)"
   ]
  },
  {
   "cell_type": "markdown",
   "metadata": {
    "id": "LLU9whIvGdza"
   },
   "source": [
    "#### >>> 回家練習 <<<\n",
    "將變數 student_id 隨意做 *加 減 乘 除* 運算，並將結果指派給 student_id_num，確認 student_id 與 student_id_num 相等。"
   ]
  },
  {
   "cell_type": "code",
   "execution_count": null,
   "metadata": {
    "id": "Qb2P8cFVGdza"
   },
   "outputs": [],
   "source": [
    "#your code\n"
   ]
  },
  {
   "cell_type": "markdown",
   "metadata": {
    "id": "nsmD_IYqGdzb"
   },
   "source": [
    "## 第三個要學會的是......了解資料的個性\n",
    ">整數 (int)<br>\n",
    ">浮點數 (float)<br>\n",
    ">布林值 (boolean)<br>\n",
    ">字串 (string)"
   ]
  },
  {
   "cell_type": "markdown",
   "metadata": {
    "id": "EUofT9zTGdzb"
   },
   "source": [
    "### 整數\n",
    "1, 2, 3, 4...\n",
    "\n",
    " - Python 會自動判斷資料型態\n",
    " - 如何知道變數的資料型態 => type()"
   ]
  },
  {
   "cell_type": "code",
   "execution_count": null,
   "metadata": {
    "id": "kQnZtKE5Gdzb"
   },
   "outputs": [],
   "source": [
    "a = 1\n",
    "type(a)"
   ]
  },
  {
   "cell_type": "markdown",
   "metadata": {
    "id": "_xhVVrQeGdzb"
   },
   "source": [
    "### 浮點數\n",
    "1.2, 3.14, 9.87, 3.0...\n",
    "\n",
    " - 有小數點時，Python 會自動判斷為浮點數\n",
    " - 整數與浮點數一起計算會怎樣?\n",
    " - 如何轉型 => int()、float()"
   ]
  },
  {
   "cell_type": "code",
   "execution_count": null,
   "metadata": {
    "id": "FzbcP8gtGdzb"
   },
   "outputs": [],
   "source": [
    "a = 1.0\n",
    "type(a)"
   ]
  },
  {
   "cell_type": "markdown",
   "metadata": {
    "id": "9d30Ik1eGdzb"
   },
   "source": [
    "### 布林值\n",
    "True, False\n",
    "\n",
    " - True 和 False 開頭皆為大寫\n",
    " - 常用於控制流程 (if、while)"
   ]
  },
  {
   "cell_type": "code",
   "execution_count": null,
   "metadata": {
    "id": "D2rXCsOCGdzb"
   },
   "outputs": [],
   "source": [
    "a = True\n",
    "type(a)"
   ]
  },
  {
   "cell_type": "markdown",
   "metadata": {
    "id": "OEEp2ajOGdzc"
   },
   "source": [
    "### 字串\n",
    "'Hello', \"tmu\"...\n",
    "\n",
    ">單引號和雙引號<br>\n",
    ">跳脫字元<br>\n",
    ">字串的加減乘除<br>\n",
    ">字串切片 (slice)<br>\n",
    ">字串格式化<br>\n",
    ">字串常用方法"
   ]
  },
  {
   "cell_type": "markdown",
   "metadata": {
    "id": "7l1gnJyBGdzc"
   },
   "source": [
    "#### 單引號和雙引號\n",
    " - 單引號和雙引號 Python 都會判斷為字串\n",
    " - 如何 print「Jimgo's apple pen」"
   ]
  },
  {
   "cell_type": "code",
   "execution_count": null,
   "metadata": {
    "id": "AD07buSlGdzc"
   },
   "outputs": [],
   "source": [
    "a = '單引號'\n",
    "type(a)"
   ]
  },
  {
   "cell_type": "code",
   "execution_count": null,
   "metadata": {
    "id": "IINVQkhgGdzc"
   },
   "outputs": [],
   "source": [
    "a = \"雙引號\"\n",
    "type(a)"
   ]
  },
  {
   "cell_type": "markdown",
   "metadata": {
    "id": "ZwmmvA1uGdzc"
   },
   "source": [
    "```Some birds aren't meant to be caged. Their feathers are just too bright.```"
   ]
  },
  {
   "cell_type": "code",
   "execution_count": null,
   "metadata": {
    "id": "KhlojrJbGdzc"
   },
   "outputs": [],
   "source": [
    "print(\"Some birds aren't meant to be caged. Their feathers are just too bright.\")"
   ]
  },
  {
   "cell_type": "markdown",
   "metadata": {
    "id": "2HylAeKgGdzc"
   },
   "source": [
    "#### 跳脫字元\n",
    " - 特殊用途的字元\n",
    " - http://python-ds.com/python-3-escape-sequences\n",
    ">\\n：換行<br>\n",
    ">\\t：tab"
   ]
  },
  {
   "cell_type": "code",
   "execution_count": null,
   "metadata": {
    "id": "2IlYU5_8Gdzd"
   },
   "outputs": [],
   "source": [
    "print('Some birds aren\\'t meant to be caged. Their feathers are just too bright.')"
   ]
  },
  {
   "cell_type": "code",
   "execution_count": null,
   "metadata": {
    "id": "xq5Yy93uGdzd"
   },
   "outputs": [],
   "source": [
    "print('Some birds aren\\'t meant to be caged. \\nTheir feathers are just too bright.')"
   ]
  },
  {
   "cell_type": "code",
   "execution_count": null,
   "metadata": {
    "id": "jqsiOQeoGdzd"
   },
   "outputs": [],
   "source": [
    "print('Some birds \\n\\taren\\'t meant to be caged. \\n\\nTheir feathers \\n\\tare just too bright.')"
   ]
  },
  {
   "cell_type": "markdown",
   "metadata": {
    "id": "eyz3lXwrGdzd"
   },
   "source": [
    "#### >>> 回家練習 <<<\n",
    "印出指定格式: 同一行你的姓名與學號，以“空格”分隔"
   ]
  },
  {
   "cell_type": "code",
   "execution_count": null,
   "metadata": {
    "id": "OX5IzhF0Gdzd"
   },
   "outputs": [],
   "source": [
    "#your code\n"
   ]
  },
  {
   "cell_type": "markdown",
   "metadata": {
    "id": "FDWdv_5iGdzd"
   },
   "source": [
    "#### >>> 回家練習 <<<\n",
    "印出指定格式: 你的姓名，一行一個字"
   ]
  },
  {
   "cell_type": "code",
   "execution_count": null,
   "metadata": {
    "id": "MUi4psRMGdze"
   },
   "outputs": [],
   "source": [
    "#your code\n"
   ]
  },
  {
   "cell_type": "markdown",
   "metadata": {
    "id": "N4g-UryQGdze"
   },
   "source": [
    "#### >>> 回家練習 <<<\n",
    "印出指定格式，如式：\n",
    "```\n",
    "姓名：name\n",
    "學號：studentid\n",
    "```\n",
    "name要換成你的姓名，studentid要換成你的完整學號"
   ]
  },
  {
   "cell_type": "code",
   "execution_count": null,
   "metadata": {
    "id": "jO1i5afRGdze"
   },
   "outputs": [],
   "source": [
    "#your code\n"
   ]
  },
  {
   "cell_type": "markdown",
   "metadata": {
    "id": "WSYqOrU1Gdze"
   },
   "source": [
    "#### 字串 (String) 的加減乘除\n",
    " - 其實字串只能加跟乘...\n",
    ">Fear can hold you prisoner, hope can set you free.<br>"
   ]
  },
  {
   "cell_type": "code",
   "execution_count": null,
   "metadata": {
    "id": "WFDD2y0gGdzf"
   },
   "outputs": [],
   "source": [
    "str1 = 'Fear can hold you prisoner'\n",
    "str2 = 'hope can set you free.'\n",
    "print(str1 + str2)"
   ]
  },
  {
   "cell_type": "code",
   "execution_count": null,
   "metadata": {
    "id": "dk_QIWQ2Gdzf"
   },
   "outputs": [],
   "source": [
    "str1 = 'Fear can hold you prisoner'\n",
    "str2 = 'hope can set you free.'\n",
    "print(str1 + \", \" + str2)"
   ]
  },
  {
   "cell_type": "code",
   "execution_count": null,
   "metadata": {
    "id": "GX4TcEs-Gdzf"
   },
   "outputs": [],
   "source": [
    "str1 = 'Fear can hold you prisoner'\n",
    "str2 = 'hope can set you free.'\n",
    "print(str1, str2)"
   ]
  },
  {
   "cell_type": "markdown",
   "metadata": {
    "id": "7Z59HN2LGdzf"
   },
   "source": [
    ">如何呼喚自由3000次?"
   ]
  },
  {
   "cell_type": "code",
   "execution_count": null,
   "metadata": {
    "id": "VL8X5WVHGdzf"
   },
   "outputs": [],
   "source": [
    "str1 = \"自由\"\n",
    "print(str1 * 3)"
   ]
  },
  {
   "cell_type": "markdown",
   "metadata": {
    "id": "-y5gByHuGdzf"
   },
   "source": [
    "#### >>> 回家練習 <<<\n",
    "以一行程式及先前設定的變數（student_name）印出你的姓名 300 次，間隔為空格。"
   ]
  },
  {
   "cell_type": "code",
   "execution_count": null,
   "metadata": {
    "id": "tCEoXD9PGdzf"
   },
   "outputs": [],
   "source": [
    "#your code\n"
   ]
  },
  {
   "cell_type": "markdown",
   "metadata": {
    "id": "F4UI3t5_Gdzg"
   },
   "source": [
    "#### 字串切片 (slice)\n",
    " - 如何取出字串第二個字?"
   ]
  },
  {
   "cell_type": "code",
   "execution_count": null,
   "metadata": {
    "id": "abv2YN_NGdzg"
   },
   "outputs": [],
   "source": [
    "str1 = \"希望是美好的\"\n",
    "str1[1]"
   ]
  },
  {
   "cell_type": "markdown",
   "metadata": {
    "id": "7iufa56lGdzg"
   },
   "source": [
    " - 如何取出第四到第六個字\n",
    " - slice:'string'[start:end]\n",
    " - 包頭不包尾"
   ]
  },
  {
   "cell_type": "code",
   "execution_count": null,
   "metadata": {
    "id": "TCCDQi1cGdzg"
   },
   "outputs": [],
   "source": [
    "str1 = \"希望是美好的\"\n",
    "str1[3:6]"
   ]
  },
  {
   "cell_type": "markdown",
   "metadata": {
    "id": "For1OIfEGdzg"
   },
   "source": [
    "#### 字串格式化\n",
    "'我希望太平洋的海水如同夢中的一樣%s：我希望……' % '顏色'\n",
    ">%s：字串<br>\n",
    ">%d：整數<br>\n",
    ">%f：浮點數"
   ]
  },
  {
   "cell_type": "code",
   "execution_count": null,
   "metadata": {
    "id": "s35JKfWEGdzh"
   },
   "outputs": [],
   "source": [
    "print('我希望太平洋的海水如同夢中的一樣%s：我希望……' % '藍')"
   ]
  },
  {
   "cell_type": "code",
   "execution_count": null,
   "metadata": {
    "id": "e9yusYaaGdzh"
   },
   "outputs": [],
   "source": [
    "print('我希望太平洋的海水如同夢中的%d樣%s：我希望……' % (1, '藍'))"
   ]
  },
  {
   "cell_type": "code",
   "execution_count": null,
   "metadata": {
    "id": "xHjOtZExGdzh"
   },
   "outputs": [],
   "source": [
    "print('我希望太平洋的海水如同夢中的%f樣%s：我希望……' % (1.0, '藍'))"
   ]
  },
  {
   "cell_type": "markdown",
   "metadata": {
    "id": "p94AMxg7Gdzh"
   },
   "source": [
    "#### 字串格式化\n",
    "```{0}年，Andy Dufresne 從肖申克監獄逃脫。人們只找到一件沾滿泥的囚衣、一塊肥皂、一把舊到不能再用的岩石錘。\\\n",
    "/n我曾認為用它鑿通監獄的牆得花上六百年。老 {1} 不到二十年就做到了。'.format(年份, '人名')```\n",
    "\n",
    " - index 從 0 開始標，字串中不用按大小排序\n",
    " - 可不填數字，Python 會自動依序填入\n",
    " - 不須先定義資料型態"
   ]
  },
  {
   "cell_type": "code",
   "execution_count": null,
   "metadata": {
    "id": "MTOeLdZmGdzh",
    "scrolled": true
   },
   "outputs": [],
   "source": [
    "print('{0}年，Andy Dufresne 從肖申克監獄逃脫。人們只找到一件沾滿泥的囚衣、一塊肥皂、一把舊到不能再用的岩石錘。\\\n",
    "\\n我曾認為用它鑿通監獄的牆得花上六百年。老 {1} 不到二十年就做到了。'.format(1966, 'Andy'))"
   ]
  },
  {
   "cell_type": "code",
   "execution_count": null,
   "metadata": {
    "id": "eBSb8GlwGdzh",
    "scrolled": true
   },
   "outputs": [],
   "source": [
    "print('{1}年，Andy Dufresne 從肖申克監獄逃脫。人們只找到一件沾滿泥的囚衣、一塊肥皂、一把舊到不能再用的岩石錘。\\\n",
    "\\n我曾認為用它鑿通監獄的牆得花上六百年。老 {0} 不到二十年就做到了。'.format('Andy', 1966))"
   ]
  },
  {
   "cell_type": "code",
   "execution_count": null,
   "metadata": {
    "id": "rJ10bD8tGdzi",
    "scrolled": true
   },
   "outputs": [],
   "source": [
    "print('{}年，Andy Dufresne 從肖申克監獄逃脫。人們只找到一件沾滿泥的囚衣、一塊肥皂、一把舊到不能再用的岩石錘。\\\n",
    "\\n我曾認為用它鑿通監獄的牆得花上六百年。老 {} 不到二十年就做到了。'.format(1966, 'Andy'))"
   ]
  },
  {
   "cell_type": "markdown",
   "metadata": {
    "id": "8PUgAx7yGdzi"
   },
   "source": [
    "#### 字串格式化 f string\n",
    "print(`f`'x + y = {x + y}')"
   ]
  },
  {
   "cell_type": "code",
   "execution_count": null,
   "metadata": {
    "id": "fhBLFKa2Gdzi"
   },
   "outputs": [],
   "source": [
    "x = 1\n",
    "y = 2\n",
    "print(f'x + y = {x + y}')"
   ]
  },
  {
   "cell_type": "code",
   "execution_count": null,
   "metadata": {
    "id": "jLP0Q-TEGdzi",
    "scrolled": true
   },
   "outputs": [],
   "source": [
    "name = \"Andy\"\n",
    "year = 1966\n",
    "print(f'{year}年，Andy Dufresne 從肖申克監獄逃脫。人們只找到一件沾滿泥的囚衣、一塊肥皂、一把舊到不能再用的岩石錘。\\\n",
    "\\n我曾認為用它鑿通監獄的牆得花上六百年。老 {name} 不到二十年就做到了。')"
   ]
  },
  {
   "cell_type": "markdown",
   "metadata": {
    "id": "gXVfgVrSGdzi"
   },
   "source": [
    "#### 字串常用方法\n",
    ">字串長度是多少<br>\n",
    ">我想把逗號取代成空格<br>\n",
    ">我想把字串斷句<br>\n",
    ">我想把英文變小寫<br>\n",
    ">我想知道字串中有沒有你的名字<br>\n",
    ">如何把數字轉字串"
   ]
  },
  {
   "cell_type": "markdown",
   "metadata": {
    "id": "Zo8bylcmGdzj"
   },
   "source": [
    "#### 字串常用方法\n",
    "字串長度是多少 => `len(str)`"
   ]
  },
  {
   "cell_type": "code",
   "execution_count": null,
   "metadata": {
    "id": "oks-8ArSGdzj"
   },
   "outputs": [],
   "source": [
    "str1 = '字串長度是多少'\n",
    "len(str1)"
   ]
  },
  {
   "cell_type": "markdown",
   "metadata": {
    "id": "LZuS5AUGGdzj"
   },
   "source": [
    "#### 字串常用方法\n",
    "我想把逗號取代成空格 => `str.replace(',', ' ')`\n",
    "\n",
    " - 空格 vs 空字串\n",
    " - 注意回傳值"
   ]
  },
  {
   "cell_type": "code",
   "execution_count": null,
   "metadata": {
    "id": "ctQvwjz9Gdzj"
   },
   "outputs": [],
   "source": [
    "str1 = '我想把逗號,取代成空格'\n",
    "str1.replace(',', ' ')"
   ]
  },
  {
   "cell_type": "code",
   "execution_count": null,
   "metadata": {
    "id": "j-x3KymPGdzj"
   },
   "outputs": [],
   "source": [
    "str1 = '我想把逗號,取代成空格'\n",
    "str1.replace(',', ' ')\n",
    "str1"
   ]
  },
  {
   "cell_type": "code",
   "execution_count": null,
   "metadata": {
    "id": "FZS_7XcGGdzk"
   },
   "outputs": [],
   "source": [
    "str1 = '我想把逗號,取代成空格'\n",
    "str1 = str1.replace(',', ' ')\n",
    "str1"
   ]
  },
  {
   "cell_type": "markdown",
   "metadata": {
    "id": "dybP9povGdzk"
   },
   "source": [
    "#### 字串常用方法\n",
    "我想把字串斷句 => `str.split('.')`\n",
    "\n",
    " - 如不指定用什麼切割，會自動以空格切割"
   ]
  },
  {
   "cell_type": "code",
   "execution_count": null,
   "metadata": {
    "id": "BRLrhsePGdzk"
   },
   "outputs": [],
   "source": [
    "str1 = '我想把.字串斷句.'\n",
    "str1.split('.')"
   ]
  },
  {
   "cell_type": "code",
   "execution_count": null,
   "metadata": {
    "id": "DvP3nisJGdzk"
   },
   "outputs": [],
   "source": [
    "str1 = '我想把\\n字串斷句\\n'\n",
    "str1.split('\\n')"
   ]
  },
  {
   "cell_type": "code",
   "execution_count": null,
   "metadata": {
    "id": "Rg2XXjV8Gdzk"
   },
   "outputs": [],
   "source": [
    "str1 = '我想把 字串斷句 '\n",
    "str1.split()"
   ]
  },
  {
   "cell_type": "markdown",
   "metadata": {
    "id": "3OE5rW4iGdzk"
   },
   "source": [
    "#### 字串常用方法\n",
    "我想把英文變小寫 => `str.lower()`"
   ]
  },
  {
   "cell_type": "code",
   "execution_count": null,
   "metadata": {
    "id": "5bDzvyCYGdzl"
   },
   "outputs": [],
   "source": [
    "str1 = 'LOWER CASE'\n",
    "str1 = str1.lower()\n",
    "str1"
   ]
  },
  {
   "cell_type": "markdown",
   "metadata": {
    "id": "32aoxVaMGdzl"
   },
   "source": [
    "#### 字串常用方法\n",
    "我想知道字串中有沒有你的名字 => `str1 in str`\n",
    "\n",
    " - `in` and `not in`"
   ]
  },
  {
   "cell_type": "code",
   "execution_count": null,
   "metadata": {
    "id": "85yZi9n0Gdzl"
   },
   "outputs": [],
   "source": [
    "str1 = '你的名字'\n",
    "str2 = '名字'"
   ]
  },
  {
   "cell_type": "code",
   "execution_count": null,
   "metadata": {
    "id": "VSctNJ9ZGdzl"
   },
   "outputs": [],
   "source": [
    "str2 in str1"
   ]
  },
  {
   "cell_type": "code",
   "execution_count": null,
   "metadata": {
    "id": "TxyTCFYLGdzl"
   },
   "outputs": [],
   "source": [
    "str2 not in str1"
   ]
  },
  {
   "cell_type": "markdown",
   "metadata": {
    "id": "ybuI-GpdGdzl"
   },
   "source": [
    "#### 字串常用方法\n",
    "如何把數字轉字串 => `str(number)`\n",
    "\n",
    " - 字串和整數可否相加? print(str + number)"
   ]
  },
  {
   "cell_type": "code",
   "execution_count": null,
   "metadata": {
    "id": "hLBWKq5SGdzm"
   },
   "outputs": [],
   "source": [
    "str1 = '1'\n",
    "number = 1\n",
    "print(str1+number)"
   ]
  },
  {
   "cell_type": "code",
   "execution_count": null,
   "metadata": {
    "id": "n1_bjzOtGdzm"
   },
   "outputs": [],
   "source": [
    "str1 = '1'\n",
    "number = 1\n",
    "print(str1+str(number))"
   ]
  },
  {
   "cell_type": "markdown",
   "metadata": {
    "id": "xjjm5eFtGdzm"
   },
   "source": [
    "### 參考資料\n",
    " - https://www.w3schools.com/python/python_strings.asp\n",
    " - https://www.runoob.com/python/python-strings.html"
   ]
  },
  {
   "cell_type": "markdown",
   "metadata": {
    "id": "WMRhDwlcGdzm"
   },
   "source": [
    "#### >>> 回家練習 <<< \n",
    "請用這個句子完成以下練習：<br>\n",
    "```時至今日我也不明白那兩個義大利女人在唱些什麼。其實我也不想知道。有些事情還是不說的好。我情願相信她們唱的是語言無法表達的美好東西，讓你為之心碎。我得告訴你這些聲音衝上了雲霄，超越了這個灰色地帶中任何人的想像。就好像某隻美麗的鳥兒扇動著翅膀飛進了這個乏味的小籠子，讓那些高牆隨之瓦解，有那麼極短的一刻，肖申克中所有人似乎重獲自由。原文：I have no idea to this day what those two Italian ladies were singing about. Truth is, I don't wanna know. Some things are best left unsaid. I'd like to think they were singing about something so beautiful it can't be expressed in words, and it makes your heart ache because of it. I tell you those voices soared, higher and farther than anybody in a grey place dares to dream. It was like some beautiful bird flapped into our drab little cage and made these walls dissolve away, and for the briefest of moments, every last man in Shawshank felt free.```\n"
   ]
  },
  {
   "cell_type": "markdown",
   "metadata": {
    "id": "nBEGD4n9Gdzn"
   },
   "source": [
    "本句共有多少個中文字元（含中文標點符號）？"
   ]
  },
  {
   "cell_type": "code",
   "execution_count": null,
   "metadata": {
    "id": "U754IATnGdzn"
   },
   "outputs": [],
   "source": [
    "#your code\n"
   ]
  },
  {
   "cell_type": "markdown",
   "metadata": {
    "id": "P2hqJH38Gdzn"
   },
   "source": [
    "#### >>> 回家練習 <<< \n",
    "本句共有多少個英文字（含英文標點符號）？ \n",
    "例如：It 是一個英文字，Shawshank 是一個英文字。不是算有多少字元 (characters) 喔。"
   ]
  },
  {
   "cell_type": "code",
   "execution_count": null,
   "metadata": {
    "id": "H_c1aQASGdzn"
   },
   "outputs": [],
   "source": [
    "#your code\n"
   ]
  },
  {
   "cell_type": "markdown",
   "metadata": {
    "id": "_a8R26y_Gdzo"
   },
   "source": [
    "#### >>> 回家練習 <<< \n",
    "\"時\"是第一個字。<br>\n",
    "以一行程式印出句子的第47, 48, 102, 103, 110, 111, 162, 163個字，印成一行。"
   ]
  },
  {
   "cell_type": "code",
   "execution_count": null,
   "metadata": {
    "id": "CKkzZ49qGdzo"
   },
   "outputs": [],
   "source": [
    "#your code\n"
   ]
  },
  {
   "cell_type": "markdown",
   "metadata": {
    "id": "a0MKE5-tGdzo"
   },
   "source": [
    "#### >>> 回家練習 <<< \n",
    "將英文字元全轉為小寫，印出。"
   ]
  },
  {
   "cell_type": "code",
   "execution_count": null,
   "metadata": {
    "id": "KGozGyvRGdzo"
   },
   "outputs": [],
   "source": [
    "#your code\n"
   ]
  },
  {
   "cell_type": "markdown",
   "metadata": {
    "id": "ODZ981tuGdzo"
   },
   "source": [
    "#### >>> 回家練習 <<< \n",
    "將句子以 \"。\" 做斷句。"
   ]
  },
  {
   "cell_type": "code",
   "execution_count": null,
   "metadata": {
    "id": "dLIxBkQOGdzo"
   },
   "outputs": [],
   "source": [
    "#your code\n"
   ]
  },
  {
   "cell_type": "markdown",
   "metadata": {
    "id": "KKx9IYP9Gdzp"
   },
   "source": [
    "## 第四個要學會的是......成為控制哥/姐\n",
    ">if...elif...else (condition)<br>\n",
    ">for...in... (for loop)<br>\n",
    ">while... (while loop)"
   ]
  },
  {
   "cell_type": "markdown",
   "metadata": {
    "id": "iJKkUoSiGdzp"
   },
   "source": [
    "### if...elif...else\n",
    "符合條件要做什麼事\n",
    ">if condition1:<br>\n",
    ">&ensp;&ensp;statement1<br>\n",
    ">elif condition2:<br>\n",
    ">&ensp;&ensp;statement2<br>\n",
    ">else:<br>\n",
    ">&ensp;&ensp;statement3\n",
    "    \n",
    " - 注意條件後面要有 `:`，而且換行後要有 `tab`\n",
    " - `elif` 和 `else` 為 optional，通常 `else` 有助於 debug"
   ]
  },
  {
   "cell_type": "markdown",
   "metadata": {
    "id": "nPvKipkIGdzp"
   },
   "source": [
    "最喜歡的漫畫?"
   ]
  },
  {
   "cell_type": "code",
   "execution_count": 2,
   "metadata": {
    "colab": {
     "base_uri": "https://localhost:8080/"
    },
    "executionInfo": {
     "elapsed": 802,
     "status": "ok",
     "timestamp": 1618540865747,
     "user": {
      "displayName": "李子儀",
      "photoUrl": "",
      "userId": "04838807742004672802"
     },
     "user_tz": -480
    },
    "id": "33qdJHb5Gdzp",
    "outputId": "9595482c-a58f-46ac-b07f-aa68a4679f07"
   },
   "outputs": [
    {
     "name": "stdout",
     "output_type": "stream",
     "text": [
      "中生代宅宅\n"
     ]
    }
   ],
   "source": [
    "comic = '海賊王'\n",
    "if comic == '七龍珠':\n",
    "    print('上古宅宅')\n",
    "elif comic == '海賊王':\n",
    "    print('中生代宅宅')\n",
    "else:\n",
    "    print('我不是宅宅')"
   ]
  },
  {
   "cell_type": "markdown",
   "metadata": {
    "id": "gxLALk5cIrnj"
   },
   "source": [
    "\n",
    "####  以下是個error, if else 可以排解可能錯誤請再下一個cell練習\n",
    ">X = 1<br>\n",
    ">Y = 0<br>\n",
    ">print(X/Y)<br>\n",
    " "
   ]
  },
  {
   "cell_type": "code",
   "execution_count": null,
   "metadata": {
    "id": "fFbfkSJcGx6_"
   },
   "outputs": [],
   "source": [
    "# 於此寫出修正後的程式，並執行輸出。\n"
   ]
  },
  {
   "cell_type": "markdown",
   "metadata": {
    "id": "FAfqY79VIRXY"
   },
   "source": [
    "百貨公司週年慶活動血拼大打折，吸引很多顧客上門，公司決定再加碼回饋客戶，\n",
    "只要客戶消費金額在 100,000 元以上就打八折，\n",
    ">金額在 50,000 元以上就打八三折，\n",
    ">金額在 30,000 元以上就打八五折，\n",
    ">金額在 10,000 元以上就打九折，\n",
    "\n",
    ">>請幫該公司設計這個收銀台的程式，\n",
    ">>輸入顧客購買金額後，計算顧客應付的金錢。"
   ]
  },
  {
   "cell_type": "code",
   "execution_count": null,
   "metadata": {
    "id": "WKmU-lSHJQ9A"
   },
   "outputs": [],
   "source": []
  },
  {
   "cell_type": "markdown",
   "metadata": {
    "id": "e-pOa7XbGdzp"
   },
   "source": [
    "### for...in...\n",
    "依序取出物品\n",
    ">for item in list:<br>\n",
    ">&ensp;&ensp;statement\n",
    "\n",
    " - 巢狀迴圈通常不建議超過 3 層"
   ]
  },
  {
   "cell_type": "code",
   "execution_count": 14,
   "metadata": {
    "colab": {
     "base_uri": "https://localhost:8080/"
    },
    "executionInfo": {
     "elapsed": 874,
     "status": "ok",
     "timestamp": 1618543366121,
     "user": {
      "displayName": "李子儀",
      "photoUrl": "",
      "userId": "04838807742004672802"
     },
     "user_tz": -480
    },
    "id": "7IFAJ5S9Gdzq",
    "outputId": "d26d2a19-37be-4543-8439-359498fbc729"
   },
   "outputs": [
    {
     "name": "stdout",
     "output_type": "stream",
     "text": [
      "1\n",
      "（´Д`）（´Д`）\n",
      "2\n",
      "（´Д`）（´Д`）\n",
      "3\n",
      "（´Д`）（´Д`）\n",
      "4\n",
      "（´Д`）（´Д`）\n"
     ]
    }
   ],
   "source": [
    "doc = ['1','2','3','4']\n",
    "face_text = \"（´Д`）\"\n",
    "\n",
    "for i in doc:\n",
    "    print(i)\n",
    "    print(face_text *2)\n"
   ]
  },
  {
   "cell_type": "code",
   "execution_count": 15,
   "metadata": {
    "colab": {
     "base_uri": "https://localhost:8080/"
    },
    "executionInfo": {
     "elapsed": 771,
     "status": "ok",
     "timestamp": 1618543369218,
     "user": {
      "displayName": "李子儀",
      "photoUrl": "",
      "userId": "04838807742004672802"
     },
     "user_tz": -480
    },
    "id": "fEVOw438Gdzq",
    "outputId": "5c30e73c-e0f0-4b18-84ed-0207b653b886"
   },
   "outputs": [
    {
     "name": "stdout",
     "output_type": "stream",
     "text": [
      "1\n",
      "2\n",
      "3\n",
      "4\n"
     ]
    }
   ],
   "source": [
    "for sentence in doc:\n",
    "    print(sentence[0:2])"
   ]
  },
  {
   "cell_type": "markdown",
   "metadata": {
    "id": "WdR7O3erGdzq"
   },
   "source": [
    "### for...in...\n",
    "固定次數內不斷做一些事\n",
    ">for index in range(start, end):<br>\n",
    ">&ensp;&ensp;statement<br>\n",
    " - range()"
   ]
  },
  {
   "cell_type": "code",
   "execution_count": 16,
   "metadata": {
    "colab": {
     "base_uri": "https://localhost:8080/"
    },
    "executionInfo": {
     "elapsed": 805,
     "status": "ok",
     "timestamp": 1618543751260,
     "user": {
      "displayName": "李子儀",
      "photoUrl": "",
      "userId": "04838807742004672802"
     },
     "user_tz": -480
    },
    "id": "JuNsCwHZGdzq",
    "outputId": "e82ee448-a3da-44cd-8eed-3fa2477d4210"
   },
   "outputs": [
    {
     "name": "stdout",
     "output_type": "stream",
     "text": [
      "記\n",
      "希\n",
      "我\n",
      "你\n"
     ]
    }
   ],
   "source": [
    "doc = ['記住，Red。',\n",
    "       '希望是美好的，也許是人間至善，而美好的事物永不消逝。',\n",
    "       '我希望這封信能找到你，而且找到你的時候，你一切安好。',\n",
    "       '你的朋友，Andy。']\n",
    "\n",
    "for index in range(len(doc)):\n",
    "    print(doc[index][0])"
   ]
  },
  {
   "cell_type": "markdown",
   "metadata": {
    "id": "Xy42vHMdGdzq"
   },
   "source": [
    "印出 2, 4, 6, 8, 10"
   ]
  },
  {
   "cell_type": "code",
   "execution_count": 17,
   "metadata": {
    "colab": {
     "base_uri": "https://localhost:8080/"
    },
    "executionInfo": {
     "elapsed": 801,
     "status": "ok",
     "timestamp": 1618544077817,
     "user": {
      "displayName": "李子儀",
      "photoUrl": "",
      "userId": "04838807742004672802"
     },
     "user_tz": -480
    },
    "id": "WLjZIgr5Gdzq",
    "outputId": "e12f1f33-6eeb-4683-9a15-b9848c8827a6"
   },
   "outputs": [
    {
     "name": "stdout",
     "output_type": "stream",
     "text": [
      "0\n",
      "2\n",
      "4\n",
      "6\n",
      "8\n",
      "10\n"
     ]
    }
   ],
   "source": [
    "for index in range(11):\n",
    "    if index % 2 == 0:\n",
    "        print(index)"
   ]
  },
  {
   "cell_type": "code",
   "execution_count": 18,
   "metadata": {
    "colab": {
     "base_uri": "https://localhost:8080/"
    },
    "executionInfo": {
     "elapsed": 927,
     "status": "ok",
     "timestamp": 1618544186753,
     "user": {
      "displayName": "李子儀",
      "photoUrl": "",
      "userId": "04838807742004672802"
     },
     "user_tz": -480
    },
    "id": "Y-O9nE58Gdzr",
    "outputId": "f51bf403-ef8c-45ab-aa6c-24e3701ed22f"
   },
   "outputs": [
    {
     "name": "stdout",
     "output_type": "stream",
     "text": [
      "2\n",
      "4\n",
      "6\n",
      "8\n",
      "10\n"
     ]
    }
   ],
   "source": [
    "for index in range(11):\n",
    "    if index % 2 == 0 and index > 0:\n",
    "        print(index)"
   ]
  },
  {
   "cell_type": "code",
   "execution_count": 8,
   "metadata": {
    "colab": {
     "base_uri": "https://localhost:8080/"
    },
    "executionInfo": {
     "elapsed": 810,
     "status": "ok",
     "timestamp": 1618542354798,
     "user": {
      "displayName": "李子儀",
      "photoUrl": "",
      "userId": "04838807742004672802"
     },
     "user_tz": -480
    },
    "id": "MS7DV8opGdzr",
    "outputId": "f654d98e-c6d7-43eb-f968-ff8ff98426a0"
   },
   "outputs": [
    {
     "name": "stdout",
     "output_type": "stream",
     "text": [
      "2\n",
      "4\n",
      "6\n",
      "8\n",
      "10\n"
     ]
    }
   ],
   "source": [
    "for index in range(2,11):\n",
    "    if index % 2 == 0:\n",
    "        print(index)"
   ]
  },
  {
   "cell_type": "code",
   "execution_count": 9,
   "metadata": {
    "colab": {
     "base_uri": "https://localhost:8080/"
    },
    "executionInfo": {
     "elapsed": 1017,
     "status": "ok",
     "timestamp": 1618542359469,
     "user": {
      "displayName": "李子儀",
      "photoUrl": "",
      "userId": "04838807742004672802"
     },
     "user_tz": -480
    },
    "id": "r3btywKsGdzr",
    "outputId": "882b1932-5f85-402b-d31d-94f7b0370ad7"
   },
   "outputs": [
    {
     "name": "stdout",
     "output_type": "stream",
     "text": [
      "2\n",
      "4\n",
      "6\n",
      "8\n",
      "10\n"
     ]
    }
   ],
   "source": [
    "for index in range(2,11,2):\n",
    "    print(index)"
   ]
  },
  {
   "cell_type": "markdown",
   "metadata": {
    "id": "iMs_FgsCJjym"
   },
   "source": [
    "小龍參考叮叮利用 range 函式設計的數列程式，改進為可以計算數列的總和，\n",
    "只要輸入一個正整數，程式就會計算由 1 到該整數的總和。"
   ]
  },
  {
   "cell_type": "code",
   "execution_count": null,
   "metadata": {
    "id": "Ru4kxh4KJibW"
   },
   "outputs": [],
   "source": [
    "# user input\n",
    "num_in = int(input())\n",
    "a = 0\n",
    "\n",
    "for i in ...:\n",
    "\n",
    "  # a += 1\n",
    "  # a = a + 1\n",
    "\n",
    "  print(...............)"
   ]
  },
  {
   "cell_type": "markdown",
   "metadata": {
    "id": "s9nomxF2Gdzr"
   },
   "source": [
    "### while...\n",
    "未知次數不斷做一些事\n",
    ">while condition:<br>\n",
    ">&ensp;&ensp;statement<br>\n",
    "\n",
    " - 小心變成無窮迴圈\n",
    " - 巢狀迴圈通常不建議超過 3 層"
   ]
  },
  {
   "cell_type": "markdown",
   "metadata": {
    "id": "P1b0Qj2JGdzr"
   },
   "source": [
    "印出 2, 4, 6, 8, 10"
   ]
  },
  {
   "cell_type": "code",
   "execution_count": 19,
   "metadata": {
    "colab": {
     "base_uri": "https://localhost:8080/"
    },
    "executionInfo": {
     "elapsed": 830,
     "status": "ok",
     "timestamp": 1618544902546,
     "user": {
      "displayName": "李子儀",
      "photoUrl": "",
      "userId": "04838807742004672802"
     },
     "user_tz": -480
    },
    "id": "2BxpNSyYGdzr",
    "outputId": "96c53716-2f9f-4719-af6b-7692f1d69fea"
   },
   "outputs": [
    {
     "name": "stdout",
     "output_type": "stream",
     "text": [
      "2\n",
      "4\n",
      "6\n",
      "8\n",
      "10\n"
     ]
    }
   ],
   "source": [
    "index = 2\n",
    "\n",
    "while index <= 10:\n",
    "    if index % 2 == 0:\n",
    "        print(index)\n",
    "    index += 2"
   ]
  },
  {
   "cell_type": "markdown",
   "metadata": {
    "id": "IxzJpIFzGdzr"
   },
   "source": [
    "### break\n",
    "\n",
    "休息一下吧! => 跳過當下迴圈"
   ]
  },
  {
   "cell_type": "code",
   "execution_count": 20,
   "metadata": {
    "colab": {
     "base_uri": "https://localhost:8080/"
    },
    "executionInfo": {
     "elapsed": 800,
     "status": "ok",
     "timestamp": 1618545148138,
     "user": {
      "displayName": "李子儀",
      "photoUrl": "",
      "userId": "04838807742004672802"
     },
     "user_tz": -480
    },
    "id": "xOCfZ3ZlGdzs",
    "outputId": "4903d176-b3e4-4836-ace0-044305d965d8"
   },
   "outputs": [
    {
     "name": "stdout",
     "output_type": "stream",
     "text": [
      "記\n",
      "希\n"
     ]
    }
   ],
   "source": [
    "doc = ['記住，Red。',\n",
    "       '希望是美好的，也許是人間至善，而美好的事物永不消逝。',\n",
    "       '我希望這封信能找到你，而且找到你的時候，你一切安好。',\n",
    "       '你的朋友，Andy。']\n",
    "\n",
    "\n",
    "for index in range(len(doc)):\n",
    "    if index == 2:\n",
    "        break\n",
    "    print(doc[index][0])"
   ]
  },
  {
   "cell_type": "markdown",
   "metadata": {
    "id": "apYohvoxGdzs"
   },
   "source": [
    "### continue\n",
    "我們繼續吧! => 跳過當下的 item"
   ]
  },
  {
   "cell_type": "code",
   "execution_count": 21,
   "metadata": {
    "colab": {
     "base_uri": "https://localhost:8080/"
    },
    "executionInfo": {
     "elapsed": 951,
     "status": "ok",
     "timestamp": 1618545159561,
     "user": {
      "displayName": "李子儀",
      "photoUrl": "",
      "userId": "04838807742004672802"
     },
     "user_tz": -480
    },
    "id": "wEM1Q4XqGdzs",
    "outputId": "3d62e643-9181-4729-f48d-ca2d3969433c"
   },
   "outputs": [
    {
     "name": "stdout",
     "output_type": "stream",
     "text": [
      "記\n",
      "希\n",
      "你\n"
     ]
    }
   ],
   "source": [
    "doc = ['記住，Red。',\n",
    "       '希望是美好的，也許是人間至善，而美好的事物永不消逝。',\n",
    "       '我希望這封信能找到你，而且找到你的時候，你一切安好。',\n",
    "       '你的朋友，Andy。']\n",
    "\n",
    "for index in range(len(doc)):\n",
    "    if index == 2:\n",
    "        continue\n",
    "    print(doc[index][0])"
   ]
  },
  {
   "cell_type": "markdown",
   "metadata": {
    "id": "Yh8mswt2Gdzs"
   },
   "source": [
    "#### >>> 回家練習 <<< \n",
    "請用這個句子完成以下練習：<br>\n",
    "```時至今日我也不明白那兩個義大利女人在唱些什麼。其實我也不想知道。有些事情還是不說的好。我情願相信她們唱的是語言無法表達的美好東西，讓你為之心碎。我得告訴你這些聲音衝上了雲霄，超越了這個灰色地帶中任何人的想像。就好像某隻美麗的鳥兒扇動著翅膀飛進了這個乏味的小籠子，讓那些高牆隨之瓦解，有那麼極短的一刻，肖申克中所有人似乎重獲自由。原文：I have no idea to this day what those two Italian ladies were singing about. Truth is, I don't wanna know. Some things are best left unsaid. I'd like to think they were singing about something so beautiful it can't be expressed in words, and it makes your heart ache because of it. I tell you those voices soared, higher and farther than anybody in a grey place dares to dream. It was like some beautiful bird flapped into our drab little cage and made these walls dissolve away, and for the briefest of moments, every last man in Shawshank felt free.```\n",
    "\n",
    "以 \"。\" 斷句，取出每個子句的第3個字元組成一個文字，印出。"
   ]
  },
  {
   "cell_type": "code",
   "execution_count": null,
   "metadata": {
    "id": "Xdf2fWWbGdzs"
   },
   "outputs": [],
   "source": [
    "#your code\n"
   ]
  },
  {
   "cell_type": "markdown",
   "metadata": {
    "id": "lHXTh3d1JwD_"
   },
   "source": [
    "利用兩層 for 迴圈列印九九乘法表。\n",
    "另外，再多設計一個程式只用 while 迴圈列印九九乘法表。"
   ]
  },
  {
   "cell_type": "code",
   "execution_count": null,
   "metadata": {
    "id": "Y-3vb5BGJxzI"
   },
   "outputs": [],
   "source": []
  },
  {
   "cell_type": "markdown",
   "metadata": {
    "id": "ohF--4hqGdzt"
   },
   "source": [
    "## >>> 回家練習 <<<\n",
    ">如何計算所有數字的加總"
   ]
  },
  {
   "cell_type": "markdown",
   "metadata": {
    "id": "I3MkreB9Gdzt"
   },
   "source": [
    "思考：想像寫程式就是在創造一個機器人，假如要我想要機器人做動作，我會經過什麼流程?"
   ]
  },
  {
   "cell_type": "markdown",
   "metadata": {
    "id": "gLVTjMzmGdzt"
   },
   "source": [
    "1. 設定變數：多少個變數? 什麼型態的變數?\n",
    "- 設定6個變數，x1, x2, x3, x4, x5, total"
   ]
  },
  {
   "cell_type": "code",
   "execution_count": null,
   "metadata": {
    "id": "StBWC2nAGdzt"
   },
   "outputs": [],
   "source": [
    "#your code\n"
   ]
  },
  {
   "cell_type": "markdown",
   "metadata": {
    "id": "GWiJoReFGdzt"
   },
   "source": [
    "2. 讀入資料\n",
    "- 運用 input() 輸入 x1, x2, x3, x4, x5 的資料"
   ]
  },
  {
   "cell_type": "code",
   "execution_count": null,
   "metadata": {
    "id": "2BAf8Wm3Gdzu"
   },
   "outputs": [],
   "source": [
    "#your code\n"
   ]
  },
  {
   "cell_type": "markdown",
   "metadata": {
    "id": "Ap_KKN12Gdzu"
   },
   "source": [
    "3. 運算\n",
    "- 計算 x1, x2, x3, x4, x5 的總和，並指派給 total 變數"
   ]
  },
  {
   "cell_type": "code",
   "execution_count": null,
   "metadata": {
    "id": "lyDS0x0PGdzu"
   },
   "outputs": [],
   "source": [
    "#your code\n"
   ]
  },
  {
   "cell_type": "markdown",
   "metadata": {
    "id": "r5ROtkJEGdzu"
   },
   "source": [
    "4. 輸出結果\n",
    "\n",
    "```加總為：```"
   ]
  },
  {
   "cell_type": "code",
   "execution_count": null,
   "metadata": {
    "id": "oRJvsI3vGdzu"
   },
   "outputs": [],
   "source": [
    "#your code\n"
   ]
  },
  {
   "cell_type": "markdown",
   "metadata": {
    "id": "RYRm-xPzGdzu"
   },
   "source": [
    "5. 思考有沒有更好的方式?\n",
    "- 以 for loop 改寫，輸入 5 個變數，輸出總和。"
   ]
  },
  {
   "cell_type": "code",
   "execution_count": null,
   "metadata": {
    "id": "BB01cFUZGdzv"
   },
   "outputs": [],
   "source": [
    "#your code\n"
   ]
  },
  {
   "cell_type": "markdown",
   "metadata": {
    "id": "9pMnJ1m8Gdzv"
   },
   "source": [
    "6. 思考有沒有更好的方式?\n",
    "- 以 while loop 改寫，輸入 5 個變數，輸出總和。"
   ]
  },
  {
   "cell_type": "code",
   "execution_count": null,
   "metadata": {
    "id": "7TVf9GwYGdzv"
   },
   "outputs": [],
   "source": [
    "#your code\n"
   ]
  }
 ],
 "metadata": {
  "colab": {
   "collapsed_sections": [
    "hOdXnOlsGdzU",
    "xC3Uo1ccGdzV",
    "v9imUdIyGdzW",
    "pXozgfCoGdzY",
    "fbs0DfuyGdzY",
    "QZSlo8uTGdzZ",
    "LLU9whIvGdza",
    "EUofT9zTGdzb",
    "_xhVVrQeGdzb",
    "9d30Ik1eGdzb",
    "OEEp2ajOGdzc",
    "7l1gnJyBGdzc",
    "2HylAeKgGdzc",
    "eyz3lXwrGdzd",
    "FDWdv_5iGdzd",
    "N4g-UryQGdze",
    "WSYqOrU1Gdze",
    "-y5gByHuGdzf",
    "F4UI3t5_Gdzg",
    "For1OIfEGdzg",
    "p94AMxg7Gdzh",
    "8PUgAx7yGdzi",
    "gXVfgVrSGdzi",
    "Zo8bylcmGdzj",
    "LZuS5AUGGdzj",
    "dybP9povGdzk",
    "3OE5rW4iGdzk",
    "32aoxVaMGdzl",
    "ybuI-GpdGdzl",
    "xjjm5eFtGdzm",
    "WMRhDwlcGdzm",
    "P2hqJH38Gdzn",
    "_a8R26y_Gdzo",
    "a0MKE5-tGdzo",
    "ODZ981tuGdzo",
    "s9nomxF2Gdzr",
    "IxzJpIFzGdzr"
   ],
   "name": "Lab1_basic_variable_control_STUDENTID_NAME_DATE.ipynb",
   "provenance": []
  },
  "kernelspec": {
   "display_name": "Python 3",
   "language": "python",
   "name": "python3"
  },
  "language_info": {
   "codemirror_mode": {
    "name": "ipython",
    "version": 3
   },
   "file_extension": ".py",
   "mimetype": "text/x-python",
   "name": "python",
   "nbconvert_exporter": "python",
   "pygments_lexer": "ipython3",
   "version": "3.8.8"
  }
 },
 "nbformat": 4,
 "nbformat_minor": 4
}
