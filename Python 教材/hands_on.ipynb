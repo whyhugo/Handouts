{
 "cells": [
  {
   "cell_type": "markdown",
   "metadata": {},
   "source": [
    "# HAND ON"
   ]
  },
  {
   "cell_type": "markdown",
   "metadata": {},
   "source": [
    "## 一、過濾資料：今有一資料tokened_pseg\n",
    "### 1. 資料過濾其他方式：filter\n",
    "\n",
    "### 2. 先確認資料型態-->新增一個list,裝我要的值用\n",
    "###   --->過濾資料，我只留pseg=['PER','Na','Nv']的資料，其中此資料的pseg不做保留\n",
    "####    ----例如：('思愛普', 'PER')-->留'思愛普'進一個新的list\n"
   ]
  },
  {
   "cell_type": "code",
   "execution_count": 13,
   "metadata": {},
   "outputs": [],
   "source": [
    "tokened_pseg = [('SAP', 'FW'), ('發表', 'VC'), ('巨量', 'Na'), ('資料', 'Na'), ('分析', 'Na'), ('策略', 'Na'), (' ', 'FW'), (',', 'COMMACATEGORY'), ('企業', 'Na'), ('應用', 'Na'), ('軟體', 'Na'), ('大廠', 'Nc'), ('思愛普', 'PER'), (',', 'COMMACATEGORY'), ('今天', 'Nd'), ('發表', 'VC'), ('巨量', 'Na'), ('資料', 'Na'), ('分析', 'VC'), ('策略', 'Na'), ('，', 'COMMACATEGORY'), ('提供', 'VD'), ('兼具', 'VJ'), ('現代化', 'VHC'), ('、', 'PAUSECATEGORY'), ('友善', 'VH'), ('介面', 'Na'), ('以及', 'Caa'), ('令', 'VL'), ('人', 'Na'), ('驚豔', 'VH'), ('的', 'DE'), ('圖象', 'Na'), ('工具', 'Na'), ('等', 'Cab'), ('優點', 'Na'), ('的', 'DE'), ('預測', 'Nv'), ('模型', 'Na'), ('，', 'COMMACATEGORY'), ('為', 'VG'), ('企業', 'Na'), ('洞察', 'Nv'), ('商機', 'Na'), ('。', 'PERIODCATEGORY'), ('為了', 'P'), ('讓', 'VL'), ('企業', 'Na'), ('有', 'V_2'), ('能力', 'Na'), ('預測', 'VE'), ('未來', 'Nd'), ('的', 'DE'), ('結果', 'Na'), ('並', 'D'), ('改善', 'VC'), ('決策', 'Na'), ('品質', 'Na'), ('，', 'COMMACATEGORY'), ('SAP', 'FW'), ('今天', 'Nd'), ('發表', 'VC'), ('SAP BusinessObjects', 'FW'), ('預測', 'Nv'), ('分析', 'Na'), ('軟體', 'Na'), ('，', 'COMMACATEGORY'), ('提供', 'VD'), ('兼具', 'VJ'), ('現代化', 'VHC'), ('、', 'PAUSECATEGORY'), ('友善', 'VH'), ('介面', 'Na'), ('以及', 'Caa'), ('令', 'VL'), ('人', 'Na'), ('驚豔', 'VH'), ('的', 'DE'), ('圖象', 'Na'), ('工具', 'Na'), ('等', 'Cab'), ('優點', 'Na'), ('的', 'DE'), ('預測', 'Nv'), ('模型', 'Na'), ('，', 'COMMACATEGORY'), ('以及', 'Caa'), ('先進', 'VH'), ('的', 'DE'), ('視覺', 'Na'), ('畫面', 'Na'), ('，', 'SHI'), ('協助', 'VC'), ('企業', 'Na'), ('發掘', 'VC'), ('商機', 'Na'), ('或', 'Caa'), ('潛藏', 'VA'), ('的', 'DE'), ('危機', 'Na'), ('。', 'PERIODCATEGORY'), ('SAP', 'FW'), ('表示', 'VE'), ('，', 'COMMACATEGORY'), ('一般人', 'Na'), ('的', 'DE'), ('認知', 'Nv'), ('，', 'COMMACATEGORY'), ('向來', 'D'), ('將', 'D'), ('預測', 'VE'), ('模型', 'Na'), ('歸類', 'Na'), ('為', 'VG'), ('統計', 'Na'), ('學者', 'Na'), ('或', 'Caa'), ('資料', 'Na'), ('科學家', 'Na'), ('的', 'DE'), ('專屬', 'Nv'), ('領域', 'Na'), ('。', 'PERIODCATEGORY'), ('但', 'Cbb'), ('SAP BusinessObjects', 'ORG'), ('預測', 'Nv'), ('分析', 'VC'), ('軟體', 'Na'), ('的', 'DE'), ('直覺式', 'Na'), ('介面', 'Na'), ('與', 'Caa'), ('優美', 'VH'), ('的', 'DE'), ('視覺', 'Na'), ('工具', 'Na'), ('，', 'COMMACATEGORY'), ('則', 'D'), ('為了', 'P'), ('滿足', 'VHC'), ('商業', 'Na'), ('分析', 'VC'), ('的', 'DE'), ('需求', 'Na'), ('而', 'Cbb'), ('設計', 'VC'), ('。', 'PERIODCATEGORY'), ('SAP', 'FW'), ('指出', 'VE'), ('，', 'COMMACATEGORY'), ('藉由', 'P'), ('這', 'Nep'), ('套', 'Nf'), ('軟體', 'Na'), ('，', 'COMMACATEGORY'), ('客戶', 'Na'), ('可', 'D'), ('了解', 'VK'), ('如何', 'D'), ('將', 'P'), ('過去', 'Nd'), ('的', 'DE'), ('銷售', 'Nv'), ('紀錄', 'Na'), ('、', 'PAUSECATEGORY'), ('成本', 'Na'), ('與', 'Caa'), ('其他', 'Neqa'), ('關鍵', 'Na'), ('指標', 'Na'), ('資料', 'Na'), ('，', 'COMMACATEGORY'), ('轉化成', 'VG'), ('未來', 'Nd'), ('的', 'DE'), ('績效', 'Na'), ('，', 'COMMACATEGORY'), ('洞察', 'VC'), ('預測值', 'Na'), ('與', 'Caa'), ('實際', 'VH'), ('目標', 'Na'), ('之間', 'Ng'), ('的', 'DE'), ('差距', 'Na'), ('，', 'COMMACATEGORY'), ('以及', 'Caa'), ('找出', 'VC'), ('交叉', 'VH'), ('銷售', 'Nv'), ('與', 'Caa'), ('追加', 'VC'), ('銷售', 'Nv'), ('之間', 'Ng'), ('的', 'DE'), ('相互', 'D'), ('關聯', 'Nv'), ('與', 'Caa'), ('機會', 'Na'), ('等', 'Cab'), ('，', 'COMMACATEGORY'), ('即時', 'D'), ('地', 'DE'), ('在', 'P'), ('巨量', 'A'), ('資料', 'Na'), ('中', 'Ng'), ('預測出', 'VC'), ('商機', 'Na'), ('或', 'Caa'), ('危機', 'Na'), ('。', 'PERIODCATEGORY'), ('SAP', 'ORG'), ('表示', 'VE'), ('，', 'COMMACATEGORY'), ('SAP BusinessObjects', 'ORG'), ('預測', 'Nv'), ('分析', 'Na'), ('軟體', 'Na'), ('可', 'D'), ('單獨', 'D'), ('佈署', 'VC'), ('，', 'COMMACATEGORY'), ('亦', 'D'), ('可', 'D'), ('和', 'P'), ('具備', 'VJ'), ('數據', 'Na'), ('挖掘', 'VC'), ('及', 'Caa'), ('統計', 'Na'), ('功能', 'Na'), ('資料庫', 'Na'), ('的', 'DE'), ('SAP HANA', 'ORG'), ('搭配', 'VC'), ('使用', 'Nv'), ('，', 'COMMACATEGORY'), ('釋放出', 'VC'), ('巨量', 'A'), ('資料', 'Na'), ('的', 'DE'), ('獨特', 'VH'), ('價值', 'Na'), ('。', 'PERIODCATEGORY'), ('除了', 'P'), ('SAP HANA', 'ORG'), ('外', 'Ng'), ('，', 'COMMACATEGORY'), ('此', 'Nep'), ('軟體', 'Na'), ('亦', 'D'), ('可', 'D'), ('連接', 'VC'), ('如', 'P'), ('SAP SybaseIQ', 'FW'), ('伺服器', 'Na'), ('等', 'Cab'), ('外部', 'Ncd'), ('資料', 'Na'), ('來源', 'Na'), ('。', 'PERIODCATEGORY'), ('不論', 'Cbb'), ('是', 'SHI'), ('結構化', 'VHC'), ('或', 'Caa'), ('非', 'VG'), ('結構化', 'VHC'), ('資料', 'Na'), ('，', 'COMMACATEGORY'), ('一旦', 'Cbb'), ('載入', 'VC'), ('SAP HANA', 'FW'), ('或', 'Caa'), ('其他', 'Neqa'), ('替代', 'VJ'), ('的', 'DE'), ('資料', 'Na'), ('來源', 'Na'), ('，', 'COMMACATEGORY'), ('不論', 'Cbb'), ('使用者', 'Na'), ('經驗', 'Na'), ('多寡', 'Na'), ('，', 'COMMACATEGORY'), ('皆', 'D'), ('能', 'D'), ('利用', 'VC'), ('直覺式', 'Na'), ('的', 'DE'), ('工具', 'Na'), ('，', 'COMMACATEGORY'), ('建構', 'VC'), ('預測', 'Nv'), ('模型', 'Na'), ('和', 'Caa'), ('先進', 'VH'), ('的', 'DE'), ('視覺', 'Na'), ('畫面', 'Na'), ('，', 'COMMACATEGORY'), ('運用', 'VC'), ('簡易', 'VH'), ('的', 'DE'), ('拖拉', 'Nv'), ('方式', 'Na'), ('，', 'COMMACATEGORY'), ('進行', 'VC'), ('資料', 'Na'), ('的', 'DE'), ('選取', 'Nv'), ('、', 'PAUSECATEGORY'), ('準備', 'Nv'), ('和', 'Caa'), ('處理', 'Nv'), ('。', 'PERIODCATEGORY'), ('蕃', 'Na'), ('新聞', 'Na'), ('新版', 'Na'), (' ', 'FW'), ('馬上', 'D'), ('試', 'VF'), ('！', 'T')]\n"
   ]
  },
  {
   "cell_type": "code",
   "execution_count": null,
   "metadata": {},
   "outputs": [],
   "source": [
    "#your code"
   ]
  },
  {
   "cell_type": "markdown",
   "metadata": {},
   "source": [
    "## 二、紅綠燈：紅燈、黃燈、綠燈依序亮，然後會再紅黃綠...\n",
    "### 1. 紅燈14秒黃燈1秒綠燈19秒 (可以import time 或 用’倒數‘)\n",
    "### 2. 當我按下'buttonPin時暫停'"
   ]
  },
  {
   "cell_type": "code",
   "execution_count": 4,
   "metadata": {},
   "outputs": [],
   "source": [
    "buttonPin = 0    # 按鈕連接的pin\n",
    "ledPinG =  2     # LED pinconst\n",
    "ledPinY =  3\n",
    "ledPinR =  4"
   ]
  },
  {
   "cell_type": "code",
   "execution_count": null,
   "metadata": {},
   "outputs": [],
   "source": [
    "#your code"
   ]
  }
 ],
 "metadata": {
  "kernelspec": {
   "display_name": "Python 3 (ipykernel)",
   "language": "python",
   "name": "python3"
  },
  "language_info": {
   "codemirror_mode": {
    "name": "ipython",
    "version": 3
   },
   "file_extension": ".py",
   "mimetype": "text/x-python",
   "name": "python",
   "nbconvert_exporter": "python",
   "pygments_lexer": "ipython3",
   "version": "3.10.5"
  }
 },
 "nbformat": 4,
 "nbformat_minor": 4
}
