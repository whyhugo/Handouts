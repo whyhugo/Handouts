{
 "cells": [
  {
   "cell_type": "markdown",
   "id": "56c0618b-f57d-46cd-b8d3-02214f451c2a",
   "metadata": {},
   "source": [
    "# rq & bs4 套件實作筆記[初階]\n",
    "> by AHSNCCU 王修佑<br>\n",
    "hugo.tw.wang@gmail.com"
   ]
  },
  {
   "cell_type": "markdown",
   "id": "e8522703-bcbe-423e-ba0d-d9f51939b2a6",
   "metadata": {},
   "source": [
    "* 有興趣可以看看這些更詳細的官方文件<br>\n",
    "> + [pandas-PyPI](https://pypi.org/project/pandas/)<br>\n",
    "> + [Beautiful Soup Documentation](https://www.crummy.com/software/BeautifulSoup/bs4/doc/#beautiful-soup-documentation)<br>\n",
    "> + [requests-PyPI](https://pypi.org/project/requests/)<br>"
   ]
  },
  {
   "cell_type": "markdown",
   "id": "5b123fcf-bea9-4d45-be7a-b2a6aeb59a35",
   "metadata": {
    "tags": []
   },
   "source": [
    "## 開始之前😉"
   ]
  },
  {
   "cell_type": "markdown",
   "id": "877ef5af-8c8b-4857-9675-d7b0600f00f7",
   "metadata": {},
   "source": [
    "如果你的環境沒有install這些套件要先`!pip install`窩！"
   ]
  },
  {
   "cell_type": "code",
   "execution_count": null,
   "id": "1fcdbbf1-f488-4e4c-8995-860e6e62fd30",
   "metadata": {},
   "outputs": [],
   "source": [
    "!pip install requests\n",
    "!pip install pandas\n",
    "!pip install BeautifulSoup"
   ]
  },
  {
   "cell_type": "markdown",
   "id": "c1520a80-925b-4439-8daf-448d309a11a6",
   "metadata": {},
   "source": [
    "如果在Google Colab使用，要先架接上Drive"
   ]
  },
  {
   "cell_type": "code",
   "execution_count": null,
   "id": "87cd3a44-683b-4f0f-9819-254505c0edf4",
   "metadata": {},
   "outputs": [],
   "source": [
    "from google.colab import drive\n",
    "drive.mount('/content/drive')"
   ]
  },
  {
   "cell_type": "markdown",
   "id": "8111a8bd-581b-43c8-8274-9f3a6d97c4c5",
   "metadata": {},
   "source": [
    "## 先import套件"
   ]
  },
  {
   "cell_type": "code",
   "execution_count": null,
   "id": "fed603a1-2ffb-4391-aa8d-a08c3ac5738e",
   "metadata": {},
   "outputs": [],
   "source": [
    "import requests as rq\n",
    "import pandas as pd\n",
    "from bs4 import BeautifulSoup as soup"
   ]
  },
  {
   "cell_type": "markdown",
   "id": "e90b552b-877d-4703-a1fd-ba1d5883a094",
   "metadata": {
    "tags": []
   },
   "source": [
    "## 小試身手：刷校網點閱率"
   ]
  },
  {
   "cell_type": "code",
   "execution_count": null,
   "id": "e200755b-3e50-4747-bb64-322ee7000f00",
   "metadata": {},
   "outputs": [],
   "source": [
    "url = 'https://www.ahs.nccu.edu.tw/ischool/public/news_view/show.php?nid=9968'\n",
    "\n",
    "times = int(input('我要新增點閱次數?次'))\n",
    "\n",
    "for i in range(times):\n",
    "    rq.get(url)\n",
    "    if i == (times-1)\n",
    "        print('Done!')"
   ]
  },
  {
   "cell_type": "markdown",
   "id": "a99f2d80-e668-4c32-9d65-7d7cd21ee839",
   "metadata": {},
   "source": [
    "完成後到校網看看你的點擊數成果吧！\n",
    "\n",
    "---"
   ]
  },
  {
   "cell_type": "markdown",
   "id": "166ee658-0e09-4696-b8b3-221e261bd28d",
   "metadata": {
    "tags": []
   },
   "source": [
    "## 開始實作吧！爬取政附校網公告文本"
   ]
  },
  {
   "cell_type": "code",
   "execution_count": null,
   "id": "5d00f8c7-1611-46fb-8851-615e17278de0",
   "metadata": {
    "jp-MarkdownHeadingCollapsed": true,
    "tags": []
   },
   "outputs": [],
   "source": [
    "ID = str(input('校網公告nid：'))\n",
    "url = 'https://www.ahs.nccu.edu.tw/ischool/public/news_view/show.php?nid=' + ID\n",
    "\n",
    "html = rq.get(url)\n",
    "sp = soup(html.text, 'html.parser')"
   ]
  },
  {
   "cell_type": "markdown",
   "id": "668275d2-9ef0-4b37-aa8b-3055c450d7a5",
   "metadata": {},
   "source": [
    "### select html tag\n",
    "透過bs4剖析網頁，select目標位置<br>\n",
    "> 可透過鍵盤`F12`查看Devoloper Tools"
   ]
  },
  {
   "cell_type": "code",
   "execution_count": null,
   "id": "2f6d96ec-ca83-493d-8d83-b596d288199e",
   "metadata": {},
   "outputs": [],
   "source": [
    "title = sp.select('#title h4')\n",
    "text = sp.select('#content p span')\n",
    "info = sp.select('#info table tbody tr td span')"
   ]
  },
  {
   "cell_type": "markdown",
   "id": "7d0def3e-75ce-4446-b225-b1129394e48e",
   "metadata": {
    "tags": []
   },
   "source": [
    "### 爬取資料\n",
    "先存到暫存"
   ]
  },
  {
   "cell_type": "code",
   "execution_count": null,
   "id": "e1accbbc-ebd6-4ced-9011-5246abe2efbe",
   "metadata": {},
   "outputs": [],
   "source": [
    "title_temp = ''\n",
    "for t in title:\n",
    "    title_temp += t.text"
   ]
  },
  {
   "cell_type": "code",
   "execution_count": null,
   "id": "fab72de0-4f1f-42c9-a1c0-e722448cdd61",
   "metadata": {},
   "outputs": [],
   "source": [
    "department_temp = ''\n",
    "staff_temp = ''\n",
    "time_temp = ''\n",
    "count = -1\n",
    "\n",
    "for t in info:\n",
    "    count += 1\n",
    "    if count == (0 or 2 or 4):\n",
    "        continue\n",
    "    elif count == 1:\n",
    "        department_temp = t.text\n",
    "    elif count == 3:\n",
    "        staff_temp = t.text\n",
    "    elif count == 5:\n",
    "        time_temp = t.text\n",
    "    else:\n",
    "        continue"
   ]
  },
  {
   "cell_type": "code",
   "execution_count": null,
   "id": "71918480-3f37-4d66-9e06-00f00c152baa",
   "metadata": {
    "tags": []
   },
   "outputs": [],
   "source": [
    "text_temp = ''\n",
    "for t in text:\n",
    "    text_temp += t.string"
   ]
  },
  {
   "cell_type": "markdown",
   "id": "15a3f7fe-9883-4a0e-a3df-6ee1d3c276a8",
   "metadata": {},
   "source": [
    "### DataFrame"
   ]
  },
  {
   "cell_type": "markdown",
   "id": "97df3fff-5c90-4670-8f1a-47d19ad87c16",
   "metadata": {},
   "source": [
    "建立一個2 rows * 6 columns的DataFrame，並加上columns name"
   ]
  },
  {
   "cell_type": "code",
   "execution_count": null,
   "id": "9c9ae607-dec5-4dd2-9b79-7039059cbda5",
   "metadata": {},
   "outputs": [],
   "source": [
    "df = pd.DataFrame([[0,0,0,0,0,0],[0,0,0,0,0,0]], columns=['nid','title','department','staff','time','text'])\n",
    "df"
   ]
  },
  {
   "cell_type": "markdown",
   "id": "fc655db8-91f5-4209-9a52-006a77a0c4c0",
   "metadata": {},
   "source": [
    "將剛才放在暫存的資料，放入DataFrame對應的位置"
   ]
  },
  {
   "cell_type": "code",
   "execution_count": null,
   "id": "10df081c",
   "metadata": {},
   "outputs": [],
   "source": [
    "df.loc[0,'nid'] = ID\n",
    "df.loc[0,'title'] = title_temp\n",
    "df.loc[0,'department'] = department_temp\n",
    "df.loc[0,'staff'] = staff_temp\n",
    "df.loc[0,'time'] = time_temp\n",
    "df.loc[0,'text'] = text_temp"
   ]
  },
  {
   "cell_type": "code",
   "execution_count": null,
   "id": "a26fafb9-3617-4a38-9ec9-a32f99836fbd",
   "metadata": {},
   "outputs": [],
   "source": [
    "df"
   ]
  },
  {
   "cell_type": "markdown",
   "id": "fb644525-5b02-46b8-86b2-fc325ebb162c",
   "metadata": {},
   "source": [
    "### I/O\n",
    "> 注意！繁體中文encoding請使用`utf_8_sig`<br>\n",
    "to_csv官方文件：https://pandas.pydata.org/docs/reference/api/pandas.DataFrame.to_csv.html"
   ]
  },
  {
   "cell_type": "code",
   "execution_count": null,
   "id": "96fd837b-87d8-40d8-b62e-ad5bd966dd18",
   "metadata": {},
   "outputs": [],
   "source": [
    "# df.to_csv('rq2.csv', header=None, index=None, encoding='utf_8_sig')\n",
    "df.to_csv('ahsnccu_bulletin_CrawlPractice.csv', encoding='utf_8_sig')"
   ]
  },
  {
   "cell_type": "markdown",
   "id": "a1968a64-b30f-4851-a86e-0bb4b673cdb8",
   "metadata": {},
   "source": [
    "---"
   ]
  },
  {
   "cell_type": "markdown",
   "id": "4eaf0860-8ed6-4bf0-ab29-03d1c8c23d0e",
   "metadata": {},
   "source": [
    "## 完整實作-連續爬取大量資料"
   ]
  },
  {
   "cell_type": "markdown",
   "id": "9b3ded73-d35b-43e9-9e02-c2d645ab6509",
   "metadata": {},
   "source": [
    "### 爬取"
   ]
  },
  {
   "cell_type": "code",
   "execution_count": null,
   "id": "258f1df6-f2c5-4e69-9172-4f4e0c2b2865",
   "metadata": {
    "tags": []
   },
   "outputs": [],
   "source": [
    "import requests as rq\n",
    "import pandas as pd\n",
    "from bs4 import BeautifulSoup as soup\n",
    "\n",
    "df = pd.DataFrame([[0,0,0,0,0,0]], columns=['nid','title','department','staff','time','text'])\n",
    "df = df.drop(0)\n",
    "\n",
    "for i in range(10000, 12200):\n",
    "    ID = str(i)\n",
    "    url = 'https://www.ahs.nccu.edu.tw/ischool/public/news_view/show.php?nid=' + ID\n",
    "    html = rq.get(url)\n",
    "    sp = soup(html.text, 'html.parser')\n",
    "    \n",
    "    title = sp.select('#title h4')\n",
    "    text = sp.select('#content p span')\n",
    "    info = sp.select('#info table tbody tr td span')\n",
    "    \n",
    "    title_temp = ''\n",
    "    for t in title:\n",
    "        title_temp += t.text\n",
    "    \n",
    "    department_temp = ''\n",
    "    staff_temp = ''\n",
    "    time_temp = ''\n",
    "    count = -1\n",
    "\n",
    "    for t in info:\n",
    "        count += 1\n",
    "        if count == (0 or 2 or 4):\n",
    "            continue\n",
    "        elif count == 1:\n",
    "            department_temp = t.text\n",
    "        elif count == 3:\n",
    "            staff_temp = t.text\n",
    "        elif count == 5:\n",
    "            time_temp = t.text\n",
    "        else:\n",
    "            continue\n",
    "    \n",
    "    text_temp = ''\n",
    "    for t in text:\n",
    "        text_temp += t.text\n",
    "        \n",
    "    df = df.append(pd.DataFrame([[ID,title_temp,department_temp,staff_temp,time_temp,text_temp]],columns=['nid','title','department','staff','time','text']),ignore_index=True)"
   ]
  },
  {
   "cell_type": "code",
   "execution_count": null,
   "id": "ddd47b60-7f16-4b60-a9a6-aaab633edeba",
   "metadata": {},
   "outputs": [],
   "source": [
    "df"
   ]
  },
  {
   "cell_type": "markdown",
   "id": "16a00d93-60db-4950-871c-c3d6861428fb",
   "metadata": {},
   "source": [
    "### 處理空值"
   ]
  },
  {
   "cell_type": "code",
   "execution_count": null,
   "id": "0a1f5793-c12c-4a17-a78b-97f4e8efb6de",
   "metadata": {},
   "outputs": [],
   "source": [
    "# df.isnull().sum()\n",
    "df1 = pd.DataFrame([[0,0,0,0,0,0]], columns=['nid','title','department','staff','time','text'])\n",
    "df1 = df.drop(0)\n",
    "df1 = pd.concat([df],ignore_index=True)\n",
    "\n",
    "count = 0\n",
    "for i in df1['title']:\n",
    "    if i == '':\n",
    "        df1 = df1.drop(count)\n",
    "    count += 1"
   ]
  },
  {
   "cell_type": "code",
   "execution_count": null,
   "id": "e05393f3-cf65-48c3-86ed-9a04d0509685",
   "metadata": {},
   "outputs": [],
   "source": [
    "df1"
   ]
  },
  {
   "cell_type": "markdown",
   "id": "f1c2a1b8-b688-46e9-93a2-b49642f94d74",
   "metadata": {},
   "source": [
    "### I/O"
   ]
  },
  {
   "cell_type": "code",
   "execution_count": null,
   "id": "a7a0e4b9-6def-48b0-b1ac-53334fad4a51",
   "metadata": {},
   "outputs": [],
   "source": [
    "df1.to_csv('ahsnccu_bulletin_crawl.csv', encoding='utf_8_sig')"
   ]
  }
 ],
 "metadata": {
  "kernelspec": {
   "display_name": "Python 3 (ipykernel)",
   "language": "python",
   "name": "python3"
  },
  "language_info": {
   "codemirror_mode": {
    "name": "ipython",
    "version": 3
   },
   "file_extension": ".py",
   "mimetype": "text/x-python",
   "name": "python",
   "nbconvert_exporter": "python",
   "pygments_lexer": "ipython3",
   "version": "3.10.5"
  },
  "toc-showmarkdowntxt": false
 },
 "nbformat": 4,
 "nbformat_minor": 5
}
